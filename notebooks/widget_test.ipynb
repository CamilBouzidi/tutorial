{
 "cells": [
  {
   "cell_type": "code",
   "id": "initial_id",
   "metadata": {
    "ExecuteTime": {
     "end_time": "2024-10-12T00:23:54.746027Z",
     "start_time": "2024-10-12T00:23:54.740232Z"
    }
   },
   "source": [
    "import ipywidgets as widgets\n",
    "from IPython.display import display\n",
    "from altair import value"
   ],
   "outputs": [],
   "execution_count": 196
  },
  {
   "metadata": {
    "ExecuteTime": {
     "end_time": "2024-10-12T00:23:54.778650Z",
     "start_time": "2024-10-12T00:23:54.773328Z"
    }
   },
   "cell_type": "code",
   "source": [
    "# Constants\n",
    "BACKGROUND_IMAGE_PATH = \"nhl_rink.png\"\n",
    "ICON_PATH = \"icon.png\"\n",
    "BACKGROUND_WIDTH = 1100\n",
    "BACKGROUND_HEIGHT = 467\n",
    "X_COORD_MIN = -100\n",
    "X_COORD_MAX = 100\n",
    "Y_COORD_MIN = -42.5\n",
    "Y_COORD_MAX = 42.5\n",
    "ICON_SIZE = 32\n",
    "X_COORD_TO_PX_RATIO = BACKGROUND_WIDTH / (X_COORD_MAX - X_COORD_MIN)\n",
    "X_PX_TO_COORD_RATIO = (X_COORD_MAX - X_COORD_MIN) / BACKGROUND_WIDTH\n",
    "Y_COORD_TO_PX_RATIO = BACKGROUND_HEIGHT / (Y_COORD_MAX - Y_COORD_MIN)\n",
    "Y_PX_TO_COORD_RATIO = (Y_COORD_MAX - Y_COORD_MIN) / BACKGROUND_HEIGHT\n",
    "EVENT_TYPES = {\"icon\": ICON_PATH, \"goal\": \"goal.png\", \"missed_shot\": \"missed_shot.png\"}"
   ],
   "id": "8de6ae993bfe108d",
   "outputs": [],
   "execution_count": 197
  },
  {
   "cell_type": "code",
   "id": "f92ffe6b963adf05",
   "metadata": {
    "ExecuteTime": {
     "end_time": "2024-10-12T00:23:54.804665Z",
     "start_time": "2024-10-12T00:23:54.797949Z"
    }
   },
   "source": [
    "background_image = widgets.Image(\n",
    "    value=open(BACKGROUND_IMAGE_PATH, \"rb\").read(),\n",
    "    format='png',\n",
    "    width=BACKGROUND_WIDTH,\n",
    "    height=BACKGROUND_HEIGHT\n",
    ")"
   ],
   "outputs": [],
   "execution_count": 198
  },
  {
   "cell_type": "code",
   "id": "788ce7e54e159e1b",
   "metadata": {
    "ExecuteTime": {
     "end_time": "2024-10-12T00:23:54.826325Z",
     "start_time": "2024-10-12T00:23:54.819668Z"
    }
   },
   "source": [
    "# Create the overlay icon\n",
    "overlay_icon = widgets.Image(\n",
    "    value=open(ICON_PATH, \"rb\").read(),\n",
    "    format='png',\n",
    "    width=ICON_SIZE,\n",
    "    height=ICON_SIZE\n",
    ")"
   ],
   "outputs": [],
   "execution_count": 199
  },
  {
   "cell_type": "code",
   "id": "3d79790ec425504c",
   "metadata": {
    "ExecuteTime": {
     "end_time": "2024-10-12T00:23:54.850715Z",
     "start_time": "2024-10-12T00:23:54.839275Z"
    }
   },
   "source": [
    "# Create the sliders and debug info\n",
    "x_slider = widgets.FloatSlider(\n",
    "    value=0,\n",
    "    min=X_COORD_MIN,\n",
    "    max=X_COORD_MAX,\n",
    "    step=1,\n",
    "    description='X Position'\n",
    ")\n",
    "y_slider = widgets.FloatSlider(\n",
    "    value=0,\n",
    "    min=Y_COORD_MIN,\n",
    "    max=Y_COORD_MAX,\n",
    "    step=1,\n",
    "    description='Y Position'\n",
    ")\n",
    "\n",
    "debug_label = widgets.Label(value = 'debug')\n",
    "event_type_dropdown = widgets.Dropdown(\n",
    "    options=EVENT_TYPES.keys(),\n",
    "    value='icon',\n",
    "    description='Event Type:'\n",
    ")"
   ],
   "outputs": [],
   "execution_count": 200
  },
  {
   "cell_type": "code",
   "id": "2b5cfef67cdcc732",
   "metadata": {
    "ExecuteTime": {
     "end_time": "2024-10-12T00:23:54.870562Z",
     "start_time": "2024-10-12T00:23:54.864198Z"
    }
   },
   "source": [
    "# Functions to update the position and the event type\n",
    "def update_position(change):\n",
    "    # There is a discrepancy between the possible values.\n",
    "    # possible value in the data for x is -100 to 100.\n",
    "    # possible value in the ui for x is 0px to 1100px.\n",
    "    # possible value in the data for x is -42.5 to 42.5 .\n",
    "    # possible value in the ui for y is 0px to 467px.\n",
    "    new_x_offset = x_slider.value * X_COORD_TO_PX_RATIO\n",
    "    new_y_offset = y_slider.value * Y_COORD_TO_PX_RATIO\n",
    "    overlay_icon.layout.left = f'{ x_initial + new_x_offset}px'\n",
    "    overlay_icon.layout.top = f'{y_initial + new_y_offset}px'\n",
    "    debug_label.value = f'new coords for layout: {overlay_icon.layout.left}, {overlay_icon.layout.top}'\n",
    "\n",
    "def update_event_type(change):\n",
    "    new_icon_path = EVENT_TYPES[event_type_dropdown.value]\n",
    "    overlay_icon.value = open(new_icon_path, \"rb\").read()\n",
    "    debug_label.value = f'New Event: {event_type_dropdown.value}'\n",
    "\n",
    "x_slider.observe(update_position, names='value')\n",
    "y_slider.observe(update_position, names='value')\n",
    "event_type_dropdown.observe(update_event_type, names='value')"
   ],
   "outputs": [],
   "execution_count": 201
  },
  {
   "metadata": {
    "ExecuteTime": {
     "end_time": "2024-10-12T00:23:54.891648Z",
     "start_time": "2024-10-12T00:23:54.886942Z"
    }
   },
   "cell_type": "code",
   "source": [
    "# Calculate the center of the rink\n",
    "background_x_center = int(background_image.width) / 2\n",
    "background_y_center = int(background_image.height) / 2\n",
    "\n",
    "# Calculate the initial position at the center of the icon\n",
    "icon_center = int(overlay_icon.width) / 2\n",
    "# Keep in mind that the icon is displayed to the right edge of the background with left = 0\n",
    "x_initial = 0 - (background_x_center - icon_center)\n",
    "y_initial = background_y_center - icon_center"
   ],
   "id": "95bff8c4c9f5efb5",
   "outputs": [],
   "execution_count": 202
  },
  {
   "cell_type": "code",
   "id": "f2fd8e87dfc9ecea",
   "metadata": {
    "ExecuteTime": {
     "end_time": "2024-10-12T00:23:54.912550Z",
     "start_time": "2024-10-12T00:23:54.907262Z"
    }
   },
   "source": [
    "overlay_icon.layout = widgets.Layout(\n",
    "    position='absolute',\n",
    "    width = f'{ICON_SIZE}px',\n",
    "    height = f'{ICON_SIZE}px',\n",
    "    top=f'{y_initial}px',  # 50% of the height minus half the icon height\n",
    "    left=f'{x_initial}px'  # 50% of the width minus half the icon width\n",
    ")"
   ],
   "outputs": [],
   "execution_count": 203
  },
  {
   "cell_type": "code",
   "id": "e7b000d0a8a58594",
   "metadata": {
    "ExecuteTime": {
     "end_time": "2024-10-12T00:23:54.929930Z",
     "start_time": "2024-10-12T00:23:54.924509Z"
    }
   },
   "source": [
    "container = widgets.Box(\n",
    "    children=[background_image, overlay_icon],\n",
    "    layout=widgets.Layout(\n",
    "        width=f'{BACKGROUND_WIDTH}px',\n",
    "        height=f'{BACKGROUND_HEIGHT}px',\n",
    "        position='relative'\n",
    "    )\n",
    ")"
   ],
   "outputs": [],
   "execution_count": 204
  },
  {
   "cell_type": "code",
   "id": "64e4dd9a8f77a85b",
   "metadata": {
    "ExecuteTime": {
     "end_time": "2024-10-12T00:23:54.957694Z",
     "start_time": "2024-10-12T00:23:54.945016Z"
    }
   },
   "source": [
    "# Display the main container\n",
    "display(container, x_slider, y_slider, debug_label, event_type_dropdown)"
   ],
   "outputs": [
    {
     "data": {
      "text/plain": [
       "Box(children=(Image(value=b'\\x89PNG\\r\\n\\x1a\\n\\x00\\x00\\x00\\rIHDR\\x00\\x00\\x04L\\x00\\x00\\x01\\xd3\\x08\\x03\\x00\\x00\\x…"
      ],
      "application/vnd.jupyter.widget-view+json": {
       "version_major": 2,
       "version_minor": 0,
       "model_id": "5a302c6673a641b4b6b26d733db03c3b"
      }
     },
     "metadata": {},
     "output_type": "display_data"
    },
    {
     "data": {
      "text/plain": [
       "FloatSlider(value=0.0, description='X Position', min=-100.0, step=1.0)"
      ],
      "application/vnd.jupyter.widget-view+json": {
       "version_major": 2,
       "version_minor": 0,
       "model_id": "5e40aba28d8e4c7085f8c9eca6bba5c1"
      }
     },
     "metadata": {},
     "output_type": "display_data"
    },
    {
     "data": {
      "text/plain": [
       "FloatSlider(value=0.0, description='Y Position', max=42.5, min=-42.5, step=1.0)"
      ],
      "application/vnd.jupyter.widget-view+json": {
       "version_major": 2,
       "version_minor": 0,
       "model_id": "b1a4431a1f004b3aa5a461001ce5fc7f"
      }
     },
     "metadata": {},
     "output_type": "display_data"
    },
    {
     "data": {
      "text/plain": [
       "Label(value='debug')"
      ],
      "application/vnd.jupyter.widget-view+json": {
       "version_major": 2,
       "version_minor": 0,
       "model_id": "f8786fbd679f459180b27b90d084b50b"
      }
     },
     "metadata": {},
     "output_type": "display_data"
    },
    {
     "data": {
      "text/plain": [
       "Dropdown(description='Event Type:', options=('icon', 'goal', 'missed_shot'), value='icon')"
      ],
      "application/vnd.jupyter.widget-view+json": {
       "version_major": 2,
       "version_minor": 0,
       "model_id": "ab127c03796e4b01a56f4cfb29fd9aae"
      }
     },
     "metadata": {},
     "output_type": "display_data"
    }
   ],
   "execution_count": 205
  },
  {
   "cell_type": "code",
   "id": "beda8334-384f-419c-8b78-5cc16551c42e",
   "metadata": {
    "ExecuteTime": {
     "end_time": "2024-10-12T00:23:55.009533Z",
     "start_time": "2024-10-12T00:23:55.005855Z"
    }
   },
   "source": [],
   "outputs": [],
   "execution_count": null
  }
 ],
 "metadata": {
  "kernelspec": {
   "display_name": "Python 3 (ipykernel)",
   "language": "python",
   "name": "python3"
  },
  "language_info": {
   "codemirror_mode": {
    "name": "ipython",
    "version": 3
   },
   "file_extension": ".py",
   "mimetype": "text/x-python",
   "name": "python",
   "nbconvert_exporter": "python",
   "pygments_lexer": "ipython3",
   "version": "3.12.7"
  }
 },
 "nbformat": 4,
 "nbformat_minor": 5
}
