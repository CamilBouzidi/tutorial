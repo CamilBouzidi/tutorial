{
 "cells": [
  {
   "cell_type": "code",
   "id": "initial_id",
   "metadata": {
    "ExecuteTime": {
     "end_time": "2024-10-12T18:42:46.458280Z",
     "start_time": "2024-10-12T18:42:46.455208Z"
    }
   },
   "source": [
    "import ipywidgets as widgets\n",
    "from IPython.display import display\n",
    "from altair import value"
   ],
   "outputs": [],
   "execution_count": 657
  },
  {
   "metadata": {
    "ExecuteTime": {
     "end_time": "2024-10-12T18:42:46.468857Z",
     "start_time": "2024-10-12T18:42:46.465300Z"
    }
   },
   "cell_type": "code",
   "source": [
    "# Constants\n",
    "BACKGROUND_IMAGE_PATH = \"nhl_rink.png\"\n",
    "ICON_PATH = \"icon.png\"\n",
    "# NHL RINK\n",
    "BACKGROUND_WIDTH = 1100\n",
    "BACKGROUND_HEIGHT = 467\n",
    "\n",
    "# NHL API\n",
    "X_COORD_MIN = -100\n",
    "X_COORD_MAX = 100\n",
    "Y_COORD_MIN = -42.5\n",
    "Y_COORD_MAX = 42.5\n",
    "\n",
    "ICON_SIZE = 25\n",
    "# Needed to make sure icon doesn't go out of bounds. Need to set icon back 1* its size to be within bounds + 0.5* its size for it to be centered\n",
    "ICON_LIMIT_RATIO = 1.5\n",
    "# The Layout system has a weird +- 3px in the y direction for invisible borders. Needs to be removed from start position in y\n",
    "X_COORD_TO_PX_RATIO = (BACKGROUND_WIDTH - ICON_SIZE * ICON_LIMIT_RATIO) / (X_COORD_MAX - X_COORD_MIN)\n",
    "X_PX_TO_COORD_RATIO = 1.0 / X_COORD_TO_PX_RATIO\n",
    "Y_COORD_TO_PX_RATIO = (BACKGROUND_HEIGHT - ICON_SIZE * ICON_LIMIT_RATIO) / (Y_COORD_MAX - Y_COORD_MIN)\n",
    "Y_PX_TO_COORD_RATIO = 1.0 / Y_COORD_TO_PX_RATIO\n",
    "EVENT_TYPES = {\"icon\": ICON_PATH, \"goal\": \"goal.png\", \"missed_shot\": \"missed_shot.png\"}"
   ],
   "id": "8de6ae993bfe108d",
   "outputs": [],
   "execution_count": 658
  },
  {
   "cell_type": "code",
   "id": "f92ffe6b963adf05",
   "metadata": {
    "ExecuteTime": {
     "end_time": "2024-10-12T18:42:46.480741Z",
     "start_time": "2024-10-12T18:42:46.476875Z"
    }
   },
   "source": [
    "background_image = widgets.Image(\n",
    "    value=open(BACKGROUND_IMAGE_PATH, \"rb\").read(),\n",
    "    format='png',\n",
    "    width=BACKGROUND_WIDTH,\n",
    "    height=BACKGROUND_HEIGHT\n",
    ")"
   ],
   "outputs": [],
   "execution_count": 659
  },
  {
   "cell_type": "code",
   "id": "788ce7e54e159e1b",
   "metadata": {
    "ExecuteTime": {
     "end_time": "2024-10-12T18:42:46.491830Z",
     "start_time": "2024-10-12T18:42:46.488398Z"
    }
   },
   "source": [
    "# Create the overlay icon\n",
    "overlay_icon = widgets.Image(\n",
    "    value=open(ICON_PATH, \"rb\").read(),\n",
    "    format='png',\n",
    "    width=ICON_SIZE,\n",
    "    height=ICON_SIZE\n",
    ")"
   ],
   "outputs": [],
   "execution_count": 660
  },
  {
   "cell_type": "code",
   "id": "3d79790ec425504c",
   "metadata": {
    "ExecuteTime": {
     "end_time": "2024-10-12T18:42:46.506767Z",
     "start_time": "2024-10-12T18:42:46.499963Z"
    }
   },
   "source": [
    "# Create the sliders and debug info\n",
    "x_slider = widgets.FloatSlider(\n",
    "    value=0,\n",
    "    min=X_COORD_MIN,\n",
    "    max=X_COORD_MAX,\n",
    "    step=1,\n",
    "    description='X Position'\n",
    ")\n",
    "y_slider = widgets.FloatSlider(\n",
    "    value=0,\n",
    "    min=Y_COORD_MIN,\n",
    "    max=Y_COORD_MAX,\n",
    "    step=1,\n",
    "    description='Y Position'\n",
    ")\n",
    "\n",
    "debug_label = widgets.Label(value = 'debug')\n",
    "event_type_dropdown = widgets.Dropdown(\n",
    "    options=EVENT_TYPES.keys(),\n",
    "    value='icon',\n",
    "    description='Event Type:'\n",
    ")"
   ],
   "outputs": [],
   "execution_count": 661
  },
  {
   "cell_type": "code",
   "id": "2b5cfef67cdcc732",
   "metadata": {
    "ExecuteTime": {
     "end_time": "2024-10-12T18:42:46.519513Z",
     "start_time": "2024-10-12T18:42:46.515113Z"
    }
   },
   "source": [
    "# Functions to update the position and the event type\n",
    "def update_position(change):\n",
    "    # There is a discrepancy between the possible values.\n",
    "    # possible value in the data for x is -100 to 100.\n",
    "    # possible value in the ui for x is 0px to 1100px.\n",
    "    # possible value in the data for x is -42.5 to 42.5 .\n",
    "    # possible value in the ui for y is 0px to 467px.\n",
    "    new_x_offset = x_slider.value * X_COORD_TO_PX_RATIO\n",
    "    new_y_offset = y_slider.value * Y_COORD_TO_PX_RATIO\n",
    "    overlay_icon.layout.left = f'{ x_initial + new_x_offset}px'\n",
    "    \n",
    "    overlay_icon.layout.top = f'{y_initial + new_y_offset}px'\n",
    "    debug_label.value = f'new coords for layout: {overlay_icon.layout.left}, {overlay_icon.layout.top}'\n",
    "    debug_label.value += f'\\n size of overlay: {overlay_icon.layout.width}, {overlay_icon.layout.height}'\n",
    "\n",
    "def update_event_type(change):\n",
    "    new_icon_path = EVENT_TYPES[event_type_dropdown.value]\n",
    "    overlay_icon.value = open(new_icon_path, \"rb\").read()\n",
    "    debug_label.value = f'New Event: {event_type_dropdown.value}'\n",
    "\n",
    "x_slider.observe(update_position, names='value')\n",
    "y_slider.observe(update_position, names='value')\n",
    "event_type_dropdown.observe(update_event_type, names='value')"
   ],
   "outputs": [],
   "execution_count": 662
  },
  {
   "metadata": {
    "ExecuteTime": {
     "end_time": "2024-10-12T18:42:46.530742Z",
     "start_time": "2024-10-12T18:42:46.527459Z"
    }
   },
   "cell_type": "code",
   "source": [
    "# Calculate the center of the rink\n",
    "background_x_center = int(background_image.width) / 2\n",
    "background_y_center = int(background_image.height) / 2\n",
    "\n",
    "# Keep in mind that the icon is displayed to the right edge of the background with left = 0\n",
    "x_initial = 0 - (background_x_center)\n",
    "y_initial = background_y_center - ICON_SIZE"
   ],
   "id": "95bff8c4c9f5efb5",
   "outputs": [],
   "execution_count": 663
  },
  {
   "cell_type": "code",
   "id": "f2fd8e87dfc9ecea",
   "metadata": {
    "ExecuteTime": {
     "end_time": "2024-10-12T18:42:46.542551Z",
     "start_time": "2024-10-12T18:42:46.539114Z"
    }
   },
   "source": [
    "overlay_icon.layout = widgets.Layout(\n",
    "    position='absolute',\n",
    "    width = f'{ICON_SIZE}px',\n",
    "    height = f'{ICON_SIZE}px',\n",
    "    top=f'{y_initial}px',  # 50% of the height minus half the icon height\n",
    "    left=f'{x_initial}px'  # 50% of the width minus half the icon width\n",
    ")"
   ],
   "outputs": [],
   "execution_count": 664
  },
  {
   "cell_type": "code",
   "id": "e7b000d0a8a58594",
   "metadata": {
    "ExecuteTime": {
     "end_time": "2024-10-12T18:42:46.556047Z",
     "start_time": "2024-10-12T18:42:46.551052Z"
    }
   },
   "source": [
    "container = widgets.Box(\n",
    "    children=[background_image, overlay_icon],\n",
    "    layout=widgets.Layout(\n",
    "        width=f'{BACKGROUND_WIDTH}px',\n",
    "        height=f'{BACKGROUND_HEIGHT}px',\n",
    "        position='absolute'\n",
    "    )\n",
    ")"
   ],
   "outputs": [],
   "execution_count": 665
  },
  {
   "cell_type": "code",
   "id": "64e4dd9a8f77a85b",
   "metadata": {
    "ExecuteTime": {
     "end_time": "2024-10-12T18:42:46.573512Z",
     "start_time": "2024-10-12T18:42:46.565219Z"
    }
   },
   "source": [
    "# Display the main container\n",
    "display(container, x_slider, y_slider, debug_label, event_type_dropdown)"
   ],
   "outputs": [
    {
     "data": {
      "text/plain": [
       "Box(children=(Image(value=b'\\x89PNG\\r\\n\\x1a\\n\\x00\\x00\\x00\\rIHDR\\x00\\x00\\x04L\\x00\\x00\\x01\\xd3\\x08\\x03\\x00\\x00\\x…"
      ],
      "application/vnd.jupyter.widget-view+json": {
       "version_major": 2,
       "version_minor": 0,
       "model_id": "69e9e1fe2cfe4018842e32cf352fa4ca"
      }
     },
     "metadata": {},
     "output_type": "display_data"
    },
    {
     "data": {
      "text/plain": [
       "FloatSlider(value=0.0, description='X Position', min=-100.0, step=1.0)"
      ],
      "application/vnd.jupyter.widget-view+json": {
       "version_major": 2,
       "version_minor": 0,
       "model_id": "0c753a0e226b44e697db68e8ad92ad10"
      }
     },
     "metadata": {},
     "output_type": "display_data"
    },
    {
     "data": {
      "text/plain": [
       "FloatSlider(value=0.0, description='Y Position', max=42.5, min=-42.5, step=1.0)"
      ],
      "application/vnd.jupyter.widget-view+json": {
       "version_major": 2,
       "version_minor": 0,
       "model_id": "3b26178b6c3c4a30bf60d084b97619dc"
      }
     },
     "metadata": {},
     "output_type": "display_data"
    },
    {
     "data": {
      "text/plain": [
       "Label(value='debug')"
      ],
      "application/vnd.jupyter.widget-view+json": {
       "version_major": 2,
       "version_minor": 0,
       "model_id": "0e54101f06634fcab5fa4cef0f0ae479"
      }
     },
     "metadata": {},
     "output_type": "display_data"
    },
    {
     "data": {
      "text/plain": [
       "Dropdown(description='Event Type:', options=('icon', 'goal', 'missed_shot'), value='icon')"
      ],
      "application/vnd.jupyter.widget-view+json": {
       "version_major": 2,
       "version_minor": 0,
       "model_id": "a75a2d6ba882426d986c6dbaab1cf776"
      }
     },
     "metadata": {},
     "output_type": "display_data"
    }
   ],
   "execution_count": 666
  },
  {
   "cell_type": "code",
   "id": "beda8334-384f-419c-8b78-5cc16551c42e",
   "metadata": {
    "ExecuteTime": {
     "end_time": "2024-10-12T18:42:46.592533Z",
     "start_time": "2024-10-12T18:42:46.590205Z"
    }
   },
   "source": [],
   "outputs": [],
   "execution_count": null
  }
 ],
 "metadata": {
  "kernelspec": {
   "display_name": "Python 3 (ipykernel)",
   "language": "python",
   "name": "python3"
  },
  "language_info": {
   "codemirror_mode": {
    "name": "ipython",
    "version": 3
   },
   "file_extension": ".py",
   "mimetype": "text/x-python",
   "name": "python",
   "nbconvert_exporter": "python",
   "pygments_lexer": "ipython3",
   "version": "3.12.7"
  }
 },
 "nbformat": 4,
 "nbformat_minor": 5
}
