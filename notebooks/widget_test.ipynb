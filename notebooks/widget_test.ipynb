{
 "cells": [
  {
   "cell_type": "code",
   "id": "initial_id",
   "metadata": {
    "ExecuteTime": {
     "end_time": "2024-10-12T00:09:46.125478Z",
     "start_time": "2024-10-12T00:09:46.120935Z"
    }
   },
   "source": [
    "import ipywidgets as widgets\n",
    "from IPython.display import display\n",
    "from altair import value"
   ],
   "outputs": [],
   "execution_count": 125
  },
  {
   "metadata": {
    "ExecuteTime": {
     "end_time": "2024-10-12T00:09:46.157644Z",
     "start_time": "2024-10-12T00:09:46.151649Z"
    }
   },
   "cell_type": "code",
   "source": [
    "# Constants\n",
    "BACKGROUND_IMAGE_PATH = \"nhl_rink.png\"\n",
    "ICON_PATH = \"icon.png\"\n",
    "BACKGROUND_WIDTH = 1100\n",
    "BACKGROUND_HEIGHT = 467\n",
    "X_COORD_MIN = -100\n",
    "X_COORD_MAX = 100\n",
    "Y_COORD_MIN = -42.5\n",
    "Y_COORD_MAX = 42.5\n",
    "ICON_SIZE = 32\n",
    "X_COORD_TO_PX_RATIO = BACKGROUND_WIDTH / (X_COORD_MAX - X_COORD_MIN)\n",
    "X_PX_TO_COORD_RATIO = (X_COORD_MAX - X_COORD_MIN) / BACKGROUND_WIDTH\n",
    "Y_COORD_TO_PX_RATIO = BACKGROUND_HEIGHT / (Y_COORD_MAX - Y_COORD_MIN)\n",
    "Y_PX_TO_COORD_RATIO = (Y_COORD_MAX - Y_COORD_MIN) / BACKGROUND_HEIGHT\n",
    "EVENT_TYPES = {\"goal\": (0, 255, 0), \"missed_shot\": (255, 0, 0)}"
   ],
   "id": "8de6ae993bfe108d",
   "outputs": [],
   "execution_count": 126
  },
  {
   "cell_type": "code",
   "id": "f92ffe6b963adf05",
   "metadata": {
    "ExecuteTime": {
     "end_time": "2024-10-12T00:09:46.186352Z",
     "start_time": "2024-10-12T00:09:46.179242Z"
    }
   },
   "source": [
    "background_image = widgets.Image(\n",
    "    value=open(BACKGROUND_IMAGE_PATH, \"rb\").read(),\n",
    "    format='png',\n",
    "    width=BACKGROUND_WIDTH,\n",
    "    height=BACKGROUND_HEIGHT\n",
    ")"
   ],
   "outputs": [],
   "execution_count": 127
  },
  {
   "cell_type": "code",
   "id": "788ce7e54e159e1b",
   "metadata": {
    "ExecuteTime": {
     "end_time": "2024-10-12T00:09:46.216504Z",
     "start_time": "2024-10-12T00:09:46.209669Z"
    }
   },
   "source": [
    "# Create the overlay icon\n",
    "overlay_icon = widgets.Image(\n",
    "    value=open(ICON_PATH, \"rb\").read(),\n",
    "    format='png',\n",
    "    width=ICON_SIZE,\n",
    "    height=ICON_SIZE\n",
    ")"
   ],
   "outputs": [],
   "execution_count": 128
  },
  {
   "cell_type": "code",
   "id": "3d79790ec425504c",
   "metadata": {
    "ExecuteTime": {
     "end_time": "2024-10-12T00:09:46.251058Z",
     "start_time": "2024-10-12T00:09:46.238710Z"
    }
   },
   "source": [
    "# Create the sliders and debug info\n",
    "x_slider = widgets.FloatSlider(\n",
    "    value=0,\n",
    "    min=X_COORD_MIN,\n",
    "    max=X_COORD_MAX,\n",
    "    step=1,\n",
    "    description='X Position'\n",
    ")\n",
    "y_slider = widgets.FloatSlider(\n",
    "    value=0,\n",
    "    min=Y_COORD_MIN,\n",
    "    max=Y_COORD_MAX,\n",
    "    step=1,\n",
    "    description='Y Position'\n",
    ")\n",
    "\n",
    "debug_label = widgets.Label(value = 'debug')"
   ],
   "outputs": [],
   "execution_count": 129
  },
  {
   "cell_type": "code",
   "id": "2b5cfef67cdcc732",
   "metadata": {
    "ExecuteTime": {
     "end_time": "2024-10-12T00:09:46.274118Z",
     "start_time": "2024-10-12T00:09:46.268359Z"
    }
   },
   "source": [
    "def update_position(change):\n",
    "    # There is a discrepancy between the possible values.\n",
    "    # possible value in the data for x is -100 to 100.\n",
    "    # possible value in the ui for x is 0px to 1100px.\n",
    "    # possible value in the data for x is -42.5 to 42.5 .\n",
    "    # possible value in the ui for y is 0px to 467px.\n",
    "    # when setting the value for the icon, keep in mind that\n",
    "    # the icon is offset to the right by 1100px.\n",
    "    # x_px_offset_from_center = background_image.width / 2\n",
    "    # y_px_offset_from_center = 0\n",
    "    # x_true_coordinate = x_slider.value\n",
    "    # y_true_coordinate = y_slider.value\n",
    "    # x_px_coordinate = -x_px_offset_from_center + x_true_coordinate\n",
    "    new_x_offset = x_slider.value * X_COORD_TO_PX_RATIO\n",
    "    new_y_offset = y_slider.value * Y_COORD_TO_PX_RATIO\n",
    "    overlay_icon.layout.left = f'{ x_initial + new_x_offset}px'\n",
    "    overlay_icon.layout.top = f'{y_initial + new_y_offset}px'\n",
    "    debug_label.value = f'new coords for layout: {overlay_icon.layout.left}, {overlay_icon.layout.top}'\n",
    "\n",
    "x_slider.observe(update_position, names='value')\n",
    "y_slider.observe(update_position, names='value')"
   ],
   "outputs": [],
   "execution_count": 130
  },
  {
   "metadata": {
    "ExecuteTime": {
     "end_time": "2024-10-12T00:09:46.295574Z",
     "start_time": "2024-10-12T00:09:46.287679Z"
    }
   },
   "cell_type": "code",
   "source": [
    "# Calculate the center of the rink\n",
    "background_x_center = int(background_image.width) / 2\n",
    "background_y_center = int(background_image.height) / 2\n",
    "\n",
    "# Calculate the initial position at the center of the icon\n",
    "icon_center = int(overlay_icon.width) / 2\n",
    "# Keep in mind that the icon is displayed to the right edge of the background with left = 0\n",
    "x_initial = 0 - (background_x_center - icon_center)\n",
    "y_initial = background_y_center - icon_center"
   ],
   "id": "95bff8c4c9f5efb5",
   "outputs": [],
   "execution_count": 131
  },
  {
   "cell_type": "code",
   "id": "f2fd8e87dfc9ecea",
   "metadata": {
    "ExecuteTime": {
     "end_time": "2024-10-12T00:09:46.312519Z",
     "start_time": "2024-10-12T00:09:46.307215Z"
    }
   },
   "source": [
    "overlay_icon.layout = widgets.Layout(\n",
    "    position='absolute',\n",
    "    width = f'{ICON_SIZE}px',\n",
    "    height = f'{ICON_SIZE}px',\n",
    "    top=f'{y_initial}px',  # 50% of the height minus half the icon height\n",
    "    left=f'{x_initial}px'  # 50% of the width minus half the icon width\n",
    ")"
   ],
   "outputs": [],
   "execution_count": 132
  },
  {
   "cell_type": "code",
   "id": "e7b000d0a8a58594",
   "metadata": {
    "ExecuteTime": {
     "end_time": "2024-10-12T00:09:46.332356Z",
     "start_time": "2024-10-12T00:09:46.326801Z"
    }
   },
   "source": [
    "container = widgets.Box(\n",
    "    children=[background_image, overlay_icon],\n",
    "    layout=widgets.Layout(\n",
    "        width=f'{BACKGROUND_WIDTH}px',\n",
    "        height=f'{BACKGROUND_HEIGHT}px',\n",
    "        position='relative'\n",
    "    )\n",
    ")"
   ],
   "outputs": [],
   "execution_count": 133
  },
  {
   "cell_type": "code",
   "id": "64e4dd9a8f77a85b",
   "metadata": {
    "ExecuteTime": {
     "end_time": "2024-10-12T00:09:46.360388Z",
     "start_time": "2024-10-12T00:09:46.347874Z"
    }
   },
   "source": [
    "# Display the main container\n",
    "display(container, x_slider, y_slider, debug_label)"
   ],
   "outputs": [
    {
     "data": {
      "text/plain": [
       "Box(children=(Image(value=b'\\x89PNG\\r\\n\\x1a\\n\\x00\\x00\\x00\\rIHDR\\x00\\x00\\x04L\\x00\\x00\\x01\\xd3\\x08\\x03\\x00\\x00\\x…"
      ],
      "application/vnd.jupyter.widget-view+json": {
       "version_major": 2,
       "version_minor": 0,
       "model_id": "dcb2d5d87b3b4d34ae5dadacc1e58db3"
      }
     },
     "metadata": {},
     "output_type": "display_data"
    },
    {
     "data": {
      "text/plain": [
       "FloatSlider(value=0.0, description='X Position', min=-100.0, step=1.0)"
      ],
      "application/vnd.jupyter.widget-view+json": {
       "version_major": 2,
       "version_minor": 0,
       "model_id": "8dc5ef3dd75d47bc8e93902947f81bd5"
      }
     },
     "metadata": {},
     "output_type": "display_data"
    },
    {
     "data": {
      "text/plain": [
       "FloatSlider(value=0.0, description='Y Position', max=42.5, min=-42.5, step=1.0)"
      ],
      "application/vnd.jupyter.widget-view+json": {
       "version_major": 2,
       "version_minor": 0,
       "model_id": "bc3df617e0724d73885ddcf1beae118e"
      }
     },
     "metadata": {},
     "output_type": "display_data"
    },
    {
     "data": {
      "text/plain": [
       "Label(value='debug')"
      ],
      "application/vnd.jupyter.widget-view+json": {
       "version_major": 2,
       "version_minor": 0,
       "model_id": "0cfe0d7bc59e4eea8672d4c6e8f90f4e"
      }
     },
     "metadata": {},
     "output_type": "display_data"
    }
   ],
   "execution_count": 134
  },
  {
   "cell_type": "code",
   "id": "beda8334-384f-419c-8b78-5cc16551c42e",
   "metadata": {
    "ExecuteTime": {
     "end_time": "2024-10-12T00:09:46.398941Z",
     "start_time": "2024-10-12T00:09:46.394733Z"
    }
   },
   "source": [],
   "outputs": [],
   "execution_count": null
  }
 ],
 "metadata": {
  "kernelspec": {
   "display_name": "Python 3 (ipykernel)",
   "language": "python",
   "name": "python3"
  },
  "language_info": {
   "codemirror_mode": {
    "name": "ipython",
    "version": 3
   },
   "file_extension": ".py",
   "mimetype": "text/x-python",
   "name": "python",
   "nbconvert_exporter": "python",
   "pygments_lexer": "ipython3",
   "version": "3.12.7"
  }
 },
 "nbformat": 4,
 "nbformat_minor": 5
}
