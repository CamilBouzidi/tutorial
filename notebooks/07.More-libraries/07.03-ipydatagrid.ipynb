{
 "cells": [
  {
   "cell_type": "markdown",
   "id": "4d5ce026",
   "metadata": {},
   "source": [
    "# `ipydatagrid`: fast, performant data grid\n",
    "\n",
    "## https://github.com/bloomberg/ipydatagrid\n",
    "\n",
    "### Full canvas rendering\n",
    "\n",
    "`ipydatagrid` is a complete data grid solution providing full integration with pandas DataFrames without compromising on performance:\n",
    "\n",
    "- built-in sorting and filtering\n",
    "- full integration with the jupyter-widgets ecosystem\n",
    "- highly customisable renderers\n",
    "- complete two-way data binding between Python and the front-end\n",
    "- supports Vega expressions for conditional formatting and styling\n",
    "\n",
    "**Installation**:\n",
    "```bash\n",
    "conda install -c conda-forge ipydatagrid\n",
    "```"
   ]
  },
  {
   "cell_type": "code",
   "execution_count": null,
   "id": "30f4cc0e",
   "metadata": {},
   "outputs": [],
   "source": [
    "from ipydatagrid import DataGrid, TextRenderer, BarRenderer, Expr, VegaExpr\n",
    "import pandas as pd\n",
    "import numpy as np\n",
    "import requests"
   ]
  },
  {
   "cell_type": "markdown",
   "id": "7b847f68",
   "metadata": {},
   "source": [
    "#### Use any dataset"
   ]
  },
  {
   "cell_type": "code",
   "execution_count": null,
   "id": "b382fc75",
   "metadata": {},
   "outputs": [],
   "source": [
    "# Numpy/pandas\n",
    "np.random.seed(0)\n",
    "p_t, n = 100, 260\n",
    "stock_df = pd.DataFrame(\n",
    "    {f'Stock {i}': p_t + np.round(np.random.standard_normal(n).cumsum(), 2) for i in range(10)}\n",
    ")\n",
    "\n",
    "# Requests/JSON\n",
    "req = requests.get(\"https://raw.githubusercontent.com/bloomberg/ipydatagrid/main/examples/cars.json\")\n",
    "data = req.json()\n",
    "cars_data = data['data']\n",
    "\n",
    "\n",
    "# Random matrix\n",
    "rand_df = pd.DataFrame(\n",
    "    {f'Column {col}': np.round(np.random.random(100), 2) for col in [chr(n) for n in range(65, 91)]}\n",
    ")\n",
    "\n",
    "# Small grid\n",
    "small_df = pd.DataFrame(\n",
    "    np.eye(10),\n",
    "    columns=[f'Col {i}' for i in range(10)],\n",
    "    index=[f'Row {i}' for i in range(10)]\n",
    ")\n",
    "\n",
    "# Multi-index\n",
    "top_level = ['Value Factors', 'Value Factors', 'Momentum Factors', 'Momentum Factors']\n",
    "bottom_level = ['Factor A', 'Factor B', 'Factor C', 'Factor D']\n",
    "\n",
    "nested_df = pd.DataFrame(np.random.randn(4,4).round(2),\n",
    "                         columns=pd.MultiIndex.from_arrays([top_level, bottom_level]),\n",
    "                         index=pd.Index(['Security {}'.format(x) for x in ['A', 'B', 'C', 'D']], name='Ticker'))"
   ]
  },
  {
   "cell_type": "markdown",
   "id": "ab90aa2c",
   "metadata": {},
   "source": [
    "#### Convert your pandas DataFrame to a datagrid - it 'just works'"
   ]
  },
  {
   "cell_type": "code",
   "execution_count": null,
   "id": "94b69044",
   "metadata": {},
   "outputs": [],
   "source": [
    "df = pd.DataFrame(cars_data).set_index('index')\n",
    "df.head()"
   ]
  },
  {
   "cell_type": "code",
   "execution_count": null,
   "id": "c2ae788a",
   "metadata": {},
   "outputs": [],
   "source": [
    "grid = DataGrid(df)\n",
    "grid"
   ]
  },
  {
   "cell_type": "markdown",
   "id": "691cac62",
   "metadata": {},
   "source": [
    "Additional constructor options"
   ]
  },
  {
   "cell_type": "code",
   "execution_count": null,
   "id": "8b18b862",
   "metadata": {},
   "outputs": [],
   "source": [
    "grid = DataGrid(\n",
    "    dataframe=df,\n",
    "    base_row_size=30,\n",
    "    base_column_size=92,\n",
    "    base_row_header_size=128,\n",
    "    base_column_header_size=40\n",
    ")\n",
    "grid"
   ]
  },
  {
   "cell_type": "code",
   "execution_count": null,
   "id": "2fd41d80",
   "metadata": {},
   "outputs": [],
   "source": [
    "grid.header_visibility = 'row'"
   ]
  },
  {
   "cell_type": "code",
   "execution_count": null,
   "id": "80ad0ce1",
   "metadata": {},
   "outputs": [],
   "source": [
    "grid.header_visibility = 'column'"
   ]
  },
  {
   "cell_type": "code",
   "execution_count": null,
   "id": "d02d97dd",
   "metadata": {},
   "outputs": [],
   "source": [
    "grid.header_visibility = 'none'"
   ]
  },
  {
   "cell_type": "code",
   "execution_count": null,
   "id": "aab73a5d",
   "metadata": {},
   "outputs": [],
   "source": [
    "grid.header_visibility = 'all'"
   ]
  },
  {
   "cell_type": "markdown",
   "id": "63a965c8",
   "metadata": {},
   "source": [
    "#### Style your data grid with custom renderers based on Vega expressions\n",
    "\n",
    "- Custom cell renderers can be defined for the entire grid or column-wise.\n",
    "\n",
    "- Two types of cell renderers are currently available: `TextRenderer` and `BarRenderer`.\n",
    "\n",
    "- Most of the TextRenderer/BarRenderer attributes (`background_color`, `text_color` etc.) can either be a `value`, a `bqplot` scale or a `VegaExpr` or `Expr` instance.\n",
    "\n",
    "The `VegaExpr` class allows you to define an attribute value as a result of a Vega-expression (see https://vega.github.io/vega/docs/expressions/):\n",
    "```python\n",
    "background_color = VegaExpr(\"value < 150 ? 'red' : 'green'\").\n",
    "```\n",
    "You can look at the vega-expression documentation for more information about available constants and functions. In the scope of the expression are also available: value: cell value, x and y: cell position in pixel, width and height of the cell, row and column: cell position."
   ]
  },
  {
   "cell_type": "code",
   "execution_count": null,
   "id": "ccf880c4",
   "metadata": {},
   "outputs": [],
   "source": [
    "from bqplot import LinearScale, ColorScale, OrdinalColorScale, OrdinalScale\n",
    "from py2vega.functions.color import rgb\n",
    "\n",
    "def horsepower_coloring(cell):\n",
    "    if cell.value < 100:\n",
    "        return \"red\"\n",
    "    elif cell.value < 150:\n",
    "        return \"orange\"\n",
    "    else:\n",
    "        return \"green\"\n",
    "\n",
    "\n",
    "def weight_coloring(cell):\n",
    "    scaled_value = 1 if cell.value > 4500 else cell.value / 4500\n",
    "    color_value = scaled_value * 255\n",
    "\n",
    "    return rgb(color_value, 0, 0)\n",
    "\n",
    "\n",
    "renderers = {\n",
    "    \"Acceleration\": BarRenderer(\n",
    "        horizontal_alignment=\"center\",\n",
    "        bar_color=ColorScale(min=0, max=20, scheme=\"viridis\"),\n",
    "        bar_value=LinearScale(min=0, max=20),\n",
    "    ),\n",
    "    \"Cylinders\": TextRenderer(\n",
    "        background_color=Expr('\"grey\" if cell.row % 2 else default_value')\n",
    "    ),\n",
    "    \"Displacement\": TextRenderer(\n",
    "        text_color=ColorScale(min=97, max=455),\n",
    "        font=Expr(\n",
    "            \"'16px sans-serif' if cell.value > 400 else '12px sans-serif'\"\n",
    "        ),\n",
    "    ),\n",
    "    \"Horsepower\": TextRenderer(\n",
    "        text_color=\"black\", background_color=Expr(horsepower_coloring)\n",
    "    ),\n",
    "    \"Miles_per_Gallon\": TextRenderer(\n",
    "        background_color=Expr('\"grey\" if cell.value is None else default_value')\n",
    "    ),\n",
    "    \"Name\": TextRenderer(\n",
    "        background_color=Expr(\n",
    "            'rgb(0, 100, 255) if \"chevrolet\" in cell.value or \"ford\" in cell.value else default_value'\n",
    "        )\n",
    "    ),\n",
    "    \"Origin\": TextRenderer(\n",
    "        text_color=\"black\",\n",
    "        background_color=OrdinalColorScale(domain=[\"USA\", \"Japan\", \"Europe\"]),\n",
    "        horizontal_alignment=Expr(\n",
    "            \"'right' if cell.value in ['USA', 'Japan'] else 'left'\"\n",
    "        ),\n",
    "    ),\n",
    "    \"Weight_in_lbs\": TextRenderer(\n",
    "        text_color=\"black\", background_color=Expr(weight_coloring)\n",
    "    ),\n",
    "    \"Year\": TextRenderer(text_color=\"black\", background_color=\"green\"),\n",
    "}\n",
    "\n",
    "grid.renderers = renderers"
   ]
  },
  {
   "cell_type": "code",
   "execution_count": null,
   "id": "526f0c77",
   "metadata": {},
   "outputs": [],
   "source": [
    "renderers[\"Name\"] \\\n",
    "    .background_color.value = '\"green\" if \"pontiac\" in cell.value or \"citroen\" in cell.value else default_value'"
   ]
  },
  {
   "cell_type": "code",
   "execution_count": null,
   "id": "8bee2999",
   "metadata": {},
   "outputs": [],
   "source": [
    "renderers[\"Year\"].background_color = \"yellow\""
   ]
  },
  {
   "cell_type": "markdown",
   "id": "688d5b2c",
   "metadata": {},
   "source": [
    "#### Apply styling to column and row headers"
   ]
  },
  {
   "cell_type": "code",
   "execution_count": null,
   "id": "f8c4b3ed",
   "metadata": {},
   "outputs": [],
   "source": [
    "grid.header_renderer = TextRenderer(\n",
    "    background_color=Expr('\"salmon\" if cell.value == \"Horsepower\" else \"skyblue\"'),\n",
    "    font='italic small-caps bold 12px/30px Georgia, serif'\n",
    ")\n",
    "\n",
    "renderers['index'] = TextRenderer(background_color='slateblue')\n",
    "grid.renderers = renderers"
   ]
  },
  {
   "cell_type": "markdown",
   "id": "e22665ef",
   "metadata": {},
   "source": [
    "#### Built-in sorting and filtering functionality which you can trigger from both Python and directly via the GUI."
   ]
  },
  {
   "cell_type": "code",
   "execution_count": null,
   "id": "6c96d8dc",
   "metadata": {},
   "outputs": [],
   "source": [
    "# Filtering based on car origin and sorting based on displacement\n",
    "grid.transform(\n",
    "    [\n",
    "        {\n",
    "            \"type\": \"filter\",\n",
    "            \"operator\": \"=\",\n",
    "            \"columnIndex\": 2,\n",
    "            \"value\": \"Europe\",\n",
    "        },\n",
    "        {\"type\": \"sort\", \"columnIndex\": 9, \"desc\": True},\n",
    "    ]\n",
    ")"
   ]
  },
  {
   "cell_type": "markdown",
   "id": "cd574769",
   "metadata": {},
   "source": [
    "#### Conditional formatting based on another cell"
   ]
  },
  {
   "cell_type": "code",
   "execution_count": null,
   "id": "e9e3b45a",
   "metadata": {},
   "outputs": [],
   "source": [
    "def format_based_on_other_column(cell):\n",
    "    return (\"green\" if cell.column == 2 and cell.metadata.data[\"Return\"] > 0 else \"red\")\n",
    "\n",
    "signal_column_formatting = TextRenderer(\n",
    "    text_color=\"white\",\n",
    "    background_color=Expr(format_based_on_other_column),\n",
    ")\n",
    "\n",
    "renderers = {\n",
    "    \"Signal\": signal_column_formatting,\n",
    "    \"Return\": TextRenderer(background_color='seashell',\n",
    "                           text_color=VegaExpr('cell.value > 0 ? \"green\" : \"firebrick\"')\n",
    "    )\n",
    "}\n",
    "\n",
    "conditional_grid = DataGrid(\n",
    "    pd.DataFrame(\n",
    "        {\"Stock\": \"A B C D\".split(), \n",
    "         \"Return\": [0.11, -0.05, 0.08, -0.20], \n",
    "         \"Signal\": [\"Buy\", \"Sell\", \"Buy\", \"Sell\"]}\n",
    "    ),\n",
    "    column_widths={\"Stock\": 64, \"Return\": 64,  \"Signal\": 300},\n",
    "    base_row_size=30,\n",
    "    renderers=renderers,\n",
    "    layout={\"height\": \"150px\"},\n",
    ")\n",
    "\n",
    "conditional_grid"
   ]
  },
  {
   "cell_type": "markdown",
   "id": "9cb0121c",
   "metadata": {},
   "source": [
    "#### Multi-index and nested columns DataFrames are also supported"
   ]
  },
  {
   "cell_type": "code",
   "execution_count": null,
   "id": "761d5d7c",
   "metadata": {},
   "outputs": [],
   "source": [
    "nested_df"
   ]
  },
  {
   "cell_type": "code",
   "execution_count": null,
   "id": "3e5a896c",
   "metadata": {},
   "outputs": [],
   "source": [
    "columns_renderer = TextRenderer(\n",
    "    background_color='dimgray',\n",
    "    horizontal_alignment='center')\n",
    "\n",
    "renderers= {\n",
    "    \"('Ticker', '')\": TextRenderer(background_color='dimgray')\n",
    "}\n",
    "\n",
    "default_renderer = TextRenderer(\n",
    "    background_color=VegaExpr('cell.value > 0 ? \"steelblue\" : \"seagreen\"')\n",
    ")\n",
    "\n",
    "nested_grid = DataGrid(nested_df,\n",
    "                       base_column_size=90,\n",
    "                       column_widths={\"('Ticker', '')\": 80},\n",
    "                       layout={'height':'140px'},\n",
    "                       renderers=renderers,\n",
    "                       default_renderer=default_renderer,\n",
    "                       header_renderer=columns_renderer)\n",
    "\n",
    "nested_grid"
   ]
  },
  {
   "cell_type": "markdown",
   "id": "80c520dd",
   "metadata": {},
   "source": [
    "#### Two-way selections model at your disposal\n",
    "\n",
    "DataGrid cells can be selected using mouse by simply clicking and dragging over the cells. Pressing Cmd / Ctrl key during selection will add to existing selections. Pressing Shift key allows selection of regions between two clicks.\n",
    "\n",
    "DataGrid supports three modes of selection `cell`, `row`, `column`. In order to disable selections, selection mode can be set to `none` which is the default setting.\n",
    "\n",
    "Selection Modes:\n",
    "\n",
    "- `cell`: Clicking on grid will select only the cell under mouse cursor\n",
    "- `row`: Clicking on grid will select all the cells on the row under mouse cursor\n",
    "- `column`: Clicking on grid will select all the cells on the column under mouse cursor\n",
    "\n",
    "You can clear all selections by hitting the `esc` key."
   ]
  },
  {
   "cell_type": "code",
   "execution_count": null,
   "id": "19daff23",
   "metadata": {},
   "outputs": [],
   "source": [
    "sel_grid = DataGrid(stock_df, selection_mode='cell')\n",
    "sel_grid"
   ]
  },
  {
   "cell_type": "markdown",
   "id": "31bae137",
   "metadata": {},
   "source": [
    "Select from the UI and retrieve on the Python side"
   ]
  },
  {
   "cell_type": "code",
   "execution_count": null,
   "id": "24bb14f0",
   "metadata": {},
   "outputs": [],
   "source": [
    "sel_grid.selections"
   ]
  },
  {
   "cell_type": "markdown",
   "id": "f63bfcdd",
   "metadata": {},
   "source": [
    "We can also access the selected cell values"
   ]
  },
  {
   "cell_type": "code",
   "execution_count": null,
   "id": "f34ebe8c",
   "metadata": {},
   "outputs": [],
   "source": [
    "sel_grid.selected_cell_values"
   ]
  },
  {
   "cell_type": "markdown",
   "id": "5b79e117",
   "metadata": {},
   "source": [
    "Select from the Python side and see selections highlighted on the UI.\n",
    "\n",
    "Parameters:\n",
    "\n",
    "- `row1`: start row (starts from 0).\n",
    "- `row2`: end row (starts from 0).\n",
    "- `column1`: start column.\n",
    "- `column2`: end column.\n",
    "\n",
    "We can automatically clear any existing selections by passing a value for `clear_mode`:\n",
    "\n",
    "- `current`: clear last selection\n",
    "- `all`: clear all existing selections\n",
    "- `none`: do not clear selections (default)"
   ]
  },
  {
   "cell_type": "code",
   "execution_count": null,
   "id": "cb14e58b",
   "metadata": {},
   "outputs": [],
   "source": [
    "# Select top left corner of grid\n",
    "sel_grid.select(row1=0, column1=0, row2=1, column2=1, clear_mode='current')"
   ]
  },
  {
   "cell_type": "code",
   "execution_count": null,
   "id": "324850f9",
   "metadata": {},
   "outputs": [],
   "source": [
    "# Clear selection\n",
    "sel_grid.clear_selection()"
   ]
  },
  {
   "cell_type": "markdown",
   "id": "1da0f04a",
   "metadata": {},
   "source": [
    "We can select individual sells by omitting `row2` and `column2`"
   ]
  },
  {
   "cell_type": "code",
   "execution_count": null,
   "id": "6852e273",
   "metadata": {},
   "outputs": [],
   "source": [
    "sel_grid.select(10, 5)"
   ]
  },
  {
   "cell_type": "markdown",
   "id": "702dc047",
   "metadata": {},
   "source": [
    "When working with large grids, we can opt to use the `selected_cell_iterator`. It will yield values for each loop iteration, avoiding the need to store all selections in a list, in advance."
   ]
  },
  {
   "cell_type": "code",
   "execution_count": null,
   "id": "fe0634e8",
   "metadata": {},
   "outputs": [],
   "source": [
    "for cell in sel_grid.selected_cell_iterator:\n",
    "    print(f'Cell value: {cell}')"
   ]
  },
  {
   "cell_type": "markdown",
   "id": "1f299815",
   "metadata": {},
   "source": [
    "We can modify selections in place by passing a list of selections"
   ]
  },
  {
   "cell_type": "code",
   "execution_count": null,
   "id": "88bccc93",
   "metadata": {},
   "outputs": [],
   "source": [
    "sel_grid.selections = [\n",
    "    {\"r1\": 22, \"r2\": 20, \"c1\": 0, \"c2\": 2},\n",
    "    {\"r1\": 6, \"r2\": 6, \"c1\": 2, \"c2\": 2},\n",
    "    {\"r1\": 10, \"r2\": 10, \"c1\": 3, \"c2\": 3},\n",
    "    {\"r1\": 13, \"r2\": 13, \"c1\": 2, \"c2\": 2},\n",
    "]"
   ]
  },
  {
   "cell_type": "markdown",
   "id": "e8d948c4",
   "metadata": {},
   "source": [
    "Row selection mode"
   ]
  },
  {
   "cell_type": "code",
   "execution_count": null,
   "id": "b653da0e",
   "metadata": {},
   "outputs": [],
   "source": [
    "sel_grid.selection_mode='row'"
   ]
  },
  {
   "cell_type": "code",
   "execution_count": null,
   "id": "71cdf563",
   "metadata": {},
   "outputs": [],
   "source": [
    "for i in range(260):\n",
    "    sel_grid.select(i, i) if i % 2 == 0 else None"
   ]
  },
  {
   "cell_type": "markdown",
   "id": "85045e17",
   "metadata": {},
   "source": [
    "#### Two-way cell editing is possible\n",
    "\n",
    "Just pass `editable=True` to the grid's constructorand you're good to go (grids are not editable by default)."
   ]
  },
  {
   "cell_type": "code",
   "execution_count": null,
   "id": "e118e5d5",
   "metadata": {},
   "outputs": [],
   "source": [
    "small_grid = DataGrid(small_df, \n",
    "                      editable=True, \n",
    "                      default_renderer=TextRenderer(\n",
    "                          background_color=VegaExpr(\"cell.value === 1 ? 'limegreen' : 'hotpink'\")\n",
    "                      ),\n",
    "                      layout={'height': '250px'})\n",
    "small_grid"
   ]
  },
  {
   "cell_type": "markdown",
   "id": "5e0ccd9a",
   "metadata": {},
   "source": [
    "You can change values directly in the UI by double clicking a cell and changing the value. You can navigate the grid using the keyboard. You can use the arrow keys or the grid's __cursor__:\n",
    "\n",
    "- __Down__: Enter\n",
    "- __Up__: Shift + Enter\n",
    "- __Right__: Tab\n",
    "- __Left__: Shift + Tab"
   ]
  },
  {
   "cell_type": "markdown",
   "id": "806468bd",
   "metadata": {},
   "source": [
    "..or you can change it directly from the Python side"
   ]
  },
  {
   "cell_type": "code",
   "execution_count": null,
   "id": "f0ac1126",
   "metadata": {},
   "outputs": [],
   "source": [
    "# Returns a boolean to indicate whether operations was successful\n",
    "small_grid.set_cell_value('Col 0', 'Row 9', 1) # Sets value based on row name"
   ]
  },
  {
   "cell_type": "code",
   "execution_count": null,
   "id": "af84ae1e",
   "metadata": {},
   "outputs": [],
   "source": [
    "small_grid.set_cell_value_by_index('Col 9', 0, 1) # Sets value based on row index"
   ]
  },
  {
   "cell_type": "markdown",
   "id": "9cb298fb",
   "metadata": {},
   "source": [
    "#### Events and integration with `ipywidgets`"
   ]
  },
  {
   "cell_type": "markdown",
   "id": "2b00cab5",
   "metadata": {},
   "source": [
    "Listen to cell change events"
   ]
  },
  {
   "cell_type": "code",
   "execution_count": null,
   "id": "b214bb25",
   "metadata": {},
   "outputs": [],
   "source": [
    "def cell_changed(e):\n",
    "    row, column, col_index, value = e['row'], e['column'], e['column_index'], e['value']\n",
    "    print(f'The cell at row {row}, column \"{column}\" (index {col_index}), changed to {value}')\n",
    "    \n",
    "small_grid.on_cell_change(cell_changed)\n",
    "small_grid"
   ]
  },
  {
   "cell_type": "markdown",
   "id": "8c454fb8",
   "metadata": {},
   "source": [
    "#### An example with the BarRenderer\n",
    "\n",
    "Renders cell values as horizontal bars based on a scale. `ipydatagrid` has two renderers - `TextRenderer`, which is the default one we've seen, and `BarRenderer`, which we will use now."
   ]
  },
  {
   "cell_type": "code",
   "execution_count": null,
   "id": "d3dcd28e",
   "metadata": {},
   "outputs": [],
   "source": [
    "from bqplot import LinearScale, ColorScale\n",
    "from ipydatagrid import DataGrid, BarRenderer\n",
    "\n",
    "linear_scale = LinearScale(min=0, max=1)\n",
    "color_scale = ColorScale(min=0, max=1)\n",
    "bar_renderer = BarRenderer(\n",
    "    bar_color=color_scale,\n",
    "    bar_value=linear_scale,\n",
    "    bar_horizontal_alignment=\"center\",\n",
    ")\n",
    "\n",
    "\n",
    "rand_grid = DataGrid(rand_df, default_renderer=bar_renderer, base_column_size=76)\n",
    "rand_grid"
   ]
  },
  {
   "cell_type": "code",
   "execution_count": null,
   "id": "8296850a",
   "metadata": {},
   "outputs": [],
   "source": [
    "bar_renderer.show_text = False"
   ]
  },
  {
   "cell_type": "code",
   "execution_count": null,
   "id": "c920c322",
   "metadata": {},
   "outputs": [],
   "source": [
    "from ipywidgets import FloatSlider, link\n",
    "\n",
    "slider = FloatSlider(\n",
    "    description=\"Scale: \", value=linear_scale.max, min=0, max=0.99, step=0.01\n",
    ")\n",
    "link((color_scale, \"min\"), (slider, \"value\"))\n",
    "link((linear_scale, \"min\"), (slider, \"value\"))\n",
    "\n",
    "slider"
   ]
  },
  {
   "cell_type": "code",
   "execution_count": null,
   "id": "6ab2857d-60be-46e2-8402-6f6b8edb7c33",
   "metadata": {},
   "outputs": [],
   "source": [
    "color_scale.min"
   ]
  },
  {
   "cell_type": "markdown",
   "id": "b78005c8",
   "metadata": {},
   "source": [
    "#### Integration with `bqplot`\n",
    "\n",
    "We have a DataGrid with time series of 10 different stock prices. Each time we click on a stock price column, we want to plot the time series of that stock price in a line chart."
   ]
  },
  {
   "cell_type": "code",
   "execution_count": null,
   "id": "e3ecc75d",
   "metadata": {},
   "outputs": [],
   "source": [
    "stock_df.head()"
   ]
  },
  {
   "cell_type": "code",
   "execution_count": null,
   "id": "dee03573",
   "metadata": {},
   "outputs": [],
   "source": [
    "from bqplot import LinearScale, Axis, Figure, Lines, CATEGORY10\n",
    "from ipywidgets import HBox, Layout\n",
    "    \n",
    "# Setting up the data grid\n",
    "stock_grid = DataGrid(stock_df, selection_mode='column')\n",
    "\n",
    "# Creating the bqplot chart objects\n",
    "sc_x = LinearScale()\n",
    "sc_y = LinearScale()\n",
    "line = Lines(x=[], y=[], labels=['Fake stock price'], display_legend=True,\n",
    "                 scales={'x': sc_x, 'y': sc_y})\n",
    "ax_x = Axis(scale=sc_x, label='Index')\n",
    "ax_y = Axis(scale=sc_y, orientation='vertical', label='y-value')\n",
    "fig = Figure(marks=[line], axes=[ax_x, ax_y], title='Line Chart', layout=Layout(flex='1 1 auto', width='100%'))"
   ]
  },
  {
   "cell_type": "code",
   "execution_count": null,
   "id": "6163f8dd",
   "metadata": {},
   "outputs": [],
   "source": [
    "def plot_stock(e=None):\n",
    "    line.y = stock_grid.selected_cell_values\n",
    "    line.x = range(len(line.y))\n",
    "    line.labels = [e['column']]\n",
    "    line.colors = [CATEGORY10[np.random.randint(0, len(CATEGORY10)) % len(CATEGORY10)]]\n",
    "    \n",
    "# Event listener for cell click\n",
    "stock_grid.on_cell_click(plot_stock)"
   ]
  },
  {
   "cell_type": "code",
   "execution_count": null,
   "id": "1413d459",
   "metadata": {},
   "outputs": [],
   "source": [
    "HBox(\n",
    "    [stock_grid, fig]\n",
    ")"
   ]
  },
  {
   "cell_type": "code",
   "execution_count": null,
   "id": "100aec93-89b1-48d8-9077-0cc0d5fc48ac",
   "metadata": {},
   "outputs": [],
   "source": []
  }
 ],
 "metadata": {
  "kernelspec": {
   "display_name": "widgets-tutorial",
   "language": "python",
   "name": "widgets-tutorial"
  },
  "language_info": {
   "codemirror_mode": {
    "name": "ipython",
    "version": 3
   },
   "file_extension": ".py",
   "mimetype": "text/x-python",
   "name": "python",
   "nbconvert_exporter": "python",
   "pygments_lexer": "ipython3",
   "version": "3.8.10"
  }
 },
 "nbformat": 4,
 "nbformat_minor": 5
}
