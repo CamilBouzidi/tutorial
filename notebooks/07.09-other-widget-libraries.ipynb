{
 "cells": [
  {
   "cell_type": "markdown",
   "id": "7e3a1d9e-3a48-41ff-a2b7-2dbcdb82c520",
   "metadata": {},
   "source": [
    "# To be added"
   ]
  }
 ],
 "metadata": {
  "kernelspec": {
   "display_name": "widgets-tutorial",
   "language": "python",
   "name": "widgets-tutorial"
  },
  "language_info": {
   "codemirror_mode": {
    "name": "ipython",
    "version": 3
   },
   "file_extension": ".py",
   "mimetype": "text/x-python",
   "name": "python",
   "nbconvert_exporter": "python",
   "pygments_lexer": "ipython3",
   "version": "3.8.10"
  }
 },
 "nbformat": 4,
 "nbformat_minor": 5
}
